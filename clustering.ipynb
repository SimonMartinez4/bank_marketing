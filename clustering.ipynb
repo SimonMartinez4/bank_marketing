{
 "cells": [
  {
   "cell_type": "code",
   "execution_count": 50,
   "metadata": {},
   "outputs": [],
   "source": [
    "import pandas as pd\n",
    "import numpy as np\n",
    "from scipy.spatial.distance import squareform\n",
    "from scipy.cluster.hierarchy import ward, dendrogram\n",
    "import matplotlib.pyplot as plt"
   ]
  },
  {
   "cell_type": "markdown",
   "metadata": {},
   "source": [
    "## Clustering"
   ]
  },
  {
   "cell_type": "code",
   "execution_count": 2,
   "metadata": {},
   "outputs": [],
   "source": [
    "df = pd.read_csv(\"./src/bank_cleaned.csv\")"
   ]
  },
  {
   "cell_type": "code",
   "execution_count": 3,
   "metadata": {},
   "outputs": [
    {
     "data": {
      "text/html": [
       "<div>\n",
       "<style scoped>\n",
       "    .dataframe tbody tr th:only-of-type {\n",
       "        vertical-align: middle;\n",
       "    }\n",
       "\n",
       "    .dataframe tbody tr th {\n",
       "        vertical-align: top;\n",
       "    }\n",
       "\n",
       "    .dataframe thead th {\n",
       "        text-align: right;\n",
       "    }\n",
       "</style>\n",
       "<table border=\"1\" class=\"dataframe\">\n",
       "  <thead>\n",
       "    <tr style=\"text-align: right;\">\n",
       "      <th></th>\n",
       "      <th>job</th>\n",
       "      <th>marital</th>\n",
       "      <th>education</th>\n",
       "      <th>default</th>\n",
       "      <th>housing</th>\n",
       "      <th>loan</th>\n",
       "    </tr>\n",
       "  </thead>\n",
       "  <tbody>\n",
       "    <tr>\n",
       "      <th>711</th>\n",
       "      <td>technician</td>\n",
       "      <td>divorced</td>\n",
       "      <td>secondary</td>\n",
       "      <td>no</td>\n",
       "      <td>yes</td>\n",
       "      <td>no</td>\n",
       "    </tr>\n",
       "    <tr>\n",
       "      <th>1782</th>\n",
       "      <td>technician</td>\n",
       "      <td>single</td>\n",
       "      <td>secondary</td>\n",
       "      <td>no</td>\n",
       "      <td>yes</td>\n",
       "      <td>no</td>\n",
       "    </tr>\n",
       "    <tr>\n",
       "      <th>4489</th>\n",
       "      <td>management</td>\n",
       "      <td>married</td>\n",
       "      <td>tertiary</td>\n",
       "      <td>no</td>\n",
       "      <td>no</td>\n",
       "      <td>yes</td>\n",
       "    </tr>\n",
       "    <tr>\n",
       "      <th>7376</th>\n",
       "      <td>management</td>\n",
       "      <td>married</td>\n",
       "      <td>secondary</td>\n",
       "      <td>no</td>\n",
       "      <td>yes</td>\n",
       "      <td>no</td>\n",
       "    </tr>\n",
       "    <tr>\n",
       "      <th>145</th>\n",
       "      <td>services</td>\n",
       "      <td>married</td>\n",
       "      <td>secondary</td>\n",
       "      <td>no</td>\n",
       "      <td>yes</td>\n",
       "      <td>no</td>\n",
       "    </tr>\n",
       "    <tr>\n",
       "      <th>10321</th>\n",
       "      <td>management</td>\n",
       "      <td>married</td>\n",
       "      <td>tertiary</td>\n",
       "      <td>no</td>\n",
       "      <td>no</td>\n",
       "      <td>no</td>\n",
       "    </tr>\n",
       "    <tr>\n",
       "      <th>10053</th>\n",
       "      <td>technician</td>\n",
       "      <td>married</td>\n",
       "      <td>tertiary</td>\n",
       "      <td>no</td>\n",
       "      <td>yes</td>\n",
       "      <td>no</td>\n",
       "    </tr>\n",
       "    <tr>\n",
       "      <th>1829</th>\n",
       "      <td>admin.</td>\n",
       "      <td>single</td>\n",
       "      <td>tertiary</td>\n",
       "      <td>no</td>\n",
       "      <td>yes</td>\n",
       "      <td>no</td>\n",
       "    </tr>\n",
       "    <tr>\n",
       "      <th>5796</th>\n",
       "      <td>retired</td>\n",
       "      <td>divorced</td>\n",
       "      <td>primary</td>\n",
       "      <td>no</td>\n",
       "      <td>no</td>\n",
       "      <td>no</td>\n",
       "    </tr>\n",
       "    <tr>\n",
       "      <th>9208</th>\n",
       "      <td>services</td>\n",
       "      <td>married</td>\n",
       "      <td>secondary</td>\n",
       "      <td>no</td>\n",
       "      <td>yes</td>\n",
       "      <td>no</td>\n",
       "    </tr>\n",
       "  </tbody>\n",
       "</table>\n",
       "</div>"
      ],
      "text/plain": [
       "              job   marital  education default housing loan\n",
       "711    technician  divorced  secondary      no     yes   no\n",
       "1782   technician    single  secondary      no     yes   no\n",
       "4489   management   married   tertiary      no      no  yes\n",
       "7376   management   married  secondary      no     yes   no\n",
       "145      services   married  secondary      no     yes   no\n",
       "10321  management   married   tertiary      no      no   no\n",
       "10053  technician   married   tertiary      no     yes   no\n",
       "1829       admin.    single   tertiary      no     yes   no\n",
       "5796      retired  divorced    primary      no      no   no\n",
       "9208     services   married  secondary      no     yes   no"
      ]
     },
     "execution_count": 3,
     "metadata": {},
     "output_type": "execute_result"
    }
   ],
   "source": [
    "profile= df.iloc[:,[1,2,3,4,6,7]]\n",
    "profile.sample(10)"
   ]
  },
  {
   "cell_type": "markdown",
   "metadata": {},
   "source": [
    "#### Replacing NaN"
   ]
  },
  {
   "cell_type": "code",
   "execution_count": 19,
   "metadata": {},
   "outputs": [
    {
     "data": {
      "text/html": [
       "<div>\n",
       "<style scoped>\n",
       "    .dataframe tbody tr th:only-of-type {\n",
       "        vertical-align: middle;\n",
       "    }\n",
       "\n",
       "    .dataframe tbody tr th {\n",
       "        vertical-align: top;\n",
       "    }\n",
       "\n",
       "    .dataframe thead th {\n",
       "        text-align: right;\n",
       "    }\n",
       "</style>\n",
       "<table border=\"1\" class=\"dataframe\">\n",
       "  <thead>\n",
       "    <tr style=\"text-align: right;\">\n",
       "      <th></th>\n",
       "      <th>NaN_count</th>\n",
       "    </tr>\n",
       "  </thead>\n",
       "  <tbody>\n",
       "    <tr>\n",
       "      <th>job</th>\n",
       "      <td>64</td>\n",
       "    </tr>\n",
       "    <tr>\n",
       "      <th>marital</th>\n",
       "      <td>0</td>\n",
       "    </tr>\n",
       "    <tr>\n",
       "      <th>education</th>\n",
       "      <td>491</td>\n",
       "    </tr>\n",
       "    <tr>\n",
       "      <th>default</th>\n",
       "      <td>0</td>\n",
       "    </tr>\n",
       "    <tr>\n",
       "      <th>housing</th>\n",
       "      <td>0</td>\n",
       "    </tr>\n",
       "    <tr>\n",
       "      <th>loan</th>\n",
       "      <td>0</td>\n",
       "    </tr>\n",
       "  </tbody>\n",
       "</table>\n",
       "</div>"
      ],
      "text/plain": [
       "           NaN_count\n",
       "job               64\n",
       "marital            0\n",
       "education        491\n",
       "default            0\n",
       "housing            0\n",
       "loan               0"
      ]
     },
     "execution_count": 19,
     "metadata": {},
     "output_type": "execute_result"
    }
   ],
   "source": [
    "nan=pd.DataFrame(profile.isna().sum())\n",
    "nan = nan.rename(columns={0 : \"NaN_count\"})\n",
    "nan"
   ]
  },
  {
   "cell_type": "code",
   "execution_count": 24,
   "metadata": {},
   "outputs": [],
   "source": [
    "job_mode = profile[\"job\"].mode()[0]\n",
    "profile[\"job\"] = profile[\"job\"].fillna(job_mode)\n",
    "education_mode = profile[\"education\"].mode()[0]\n",
    "profile[\"education\"] = profile[\"education\"].fillna(education_mode)"
   ]
  },
  {
   "cell_type": "markdown",
   "metadata": {},
   "source": [
    "#### One Hot Encoding"
   ]
  },
  {
   "cell_type": "code",
   "execution_count": 36,
   "metadata": {},
   "outputs": [
    {
     "name": "stdout",
     "output_type": "stream",
     "text": [
      "<class 'pandas.core.frame.DataFrame'>\n",
      "RangeIndex: 11156 entries, 0 to 11155\n",
      "Data columns (total 23 columns):\n",
      " #   Column               Non-Null Count  Dtype\n",
      "---  ------               --------------  -----\n",
      " 0   job_admin.           11156 non-null  uint8\n",
      " 1   job_blue-collar      11156 non-null  uint8\n",
      " 2   job_entrepreneur     11156 non-null  uint8\n",
      " 3   job_housemaid        11156 non-null  uint8\n",
      " 4   job_management       11156 non-null  uint8\n",
      " 5   job_retired          11156 non-null  uint8\n",
      " 6   job_self-employed    11156 non-null  uint8\n",
      " 7   job_services         11156 non-null  uint8\n",
      " 8   job_student          11156 non-null  uint8\n",
      " 9   job_technician       11156 non-null  uint8\n",
      " 10  job_unemployed       11156 non-null  uint8\n",
      " 11  marital_divorced     11156 non-null  uint8\n",
      " 12  marital_married      11156 non-null  uint8\n",
      " 13  marital_single       11156 non-null  uint8\n",
      " 14  education_primary    11156 non-null  uint8\n",
      " 15  education_secondary  11156 non-null  uint8\n",
      " 16  education_tertiary   11156 non-null  uint8\n",
      " 17  default_no           11156 non-null  uint8\n",
      " 18  default_yes          11156 non-null  uint8\n",
      " 19  housing_no           11156 non-null  uint8\n",
      " 20  housing_yes          11156 non-null  uint8\n",
      " 21  loan_no              11156 non-null  uint8\n",
      " 22  loan_yes             11156 non-null  uint8\n",
      "dtypes: uint8(23)\n",
      "memory usage: 250.7 KB\n"
     ]
    }
   ],
   "source": [
    "M=pd.get_dummies(data=profile,drop_first=False).astype(\"uint8\")\n",
    "M.info()"
   ]
  },
  {
   "cell_type": "markdown",
   "metadata": {},
   "source": [
    "#### Dice function to measure distance between 2 features"
   ]
  },
  {
   "cell_type": "code",
   "execution_count": 39,
   "metadata": {},
   "outputs": [],
   "source": [
    "def Dice(col1,col2):\n",
    "    return (0.5*np.sum((col1 - col2)**2))"
   ]
  },
  {
   "cell_type": "code",
   "execution_count": 40,
   "metadata": {},
   "outputs": [
    {
     "data": {
      "text/plain": [
       "array([[1, 0, 0, ..., 1, 1, 0],\n",
       "       [1, 0, 0, ..., 0, 1, 0],\n",
       "       [0, 0, 0, ..., 1, 1, 0],\n",
       "       ...,\n",
       "       [0, 0, 0, ..., 0, 1, 0],\n",
       "       [0, 0, 0, ..., 0, 0, 1],\n",
       "       [0, 0, 0, ..., 0, 1, 0]], dtype=uint8)"
      ]
     },
     "execution_count": 40,
     "metadata": {},
     "output_type": "execute_result"
    }
   ],
   "source": [
    "## Transforming DataFrame into an array\n",
    "MN=M.values\n",
    "MN"
   ]
  },
  {
   "cell_type": "code",
   "execution_count": 41,
   "metadata": {},
   "outputs": [],
   "source": [
    "## Array filled with zeros as a template of the Dice Matrix\n",
    "D=np.zeros(shape=(M.shape[1],M.shape[1]))"
   ]
  },
  {
   "cell_type": "code",
   "execution_count": 42,
   "metadata": {},
   "outputs": [
    {
     "data": {
      "text/plain": [
       "array([[ 0.        , 40.48456496, 28.82707061, 28.35489376, 44.51965858,\n",
       "        32.49615362, 29.4872854 , 33.59315406, 29.10326442, 39.73034105,\n",
       "        29.0774827 , 33.63034344, 56.24499978, 44.16446535, 37.08099244,\n",
       "        50.26430145, 48.40970977, 69.5593272 , 27.19374928, 54.86802347,\n",
       "        50.67050424, 66.46051459, 34.07345007],\n",
       "       [40.48456496,  0.        , 33.70459909, 33.30165161, 47.8225888 ,\n",
       "        36.89173349, 34.27097898, 37.86159004, 33.9411255 , 43.39930875,\n",
       "        33.91902121, 38.32753579, 53.01414905, 47.6497639 , 32.06243908,\n",
       "        52.47380299, 52.61653732, 67.55368236, 31.85121662, 57.32800363,\n",
       "        47.86961458, 64.90762667, 36.9459064 ],\n",
       "       [28.82707061, 33.70459909,  0.        , 17.34935157, 38.45776905,\n",
       "        23.51595203, 19.14418972, 25.009998  , 18.54723699, 32.79481666,\n",
       "        18.50675552, 27.71281292, 55.70906569, 43.24927745, 29.54657341,\n",
       "        54.70374759, 43.31858723, 73.07872467, 15.41103501, 54.21715596,\n",
       "        51.36633139, 68.9492567 , 28.70540019],\n",
       "       [28.35489376, 33.30165161, 17.34935157,  0.        , 38.10511777,\n",
       "        22.93468988, 18.42552577, 24.46425965, 17.80449381, 32.38054972,\n",
       "        17.76231967, 27.14774392, 55.86143571, 43.09872388, 27.25802634,\n",
       "        55.07721852, 44.02839993, 73.24957338, 14.57737974, 53.63301222,\n",
       "        51.97595598, 68.78226516, 29.10326442],\n",
       "       [44.51965858, 47.8225888 , 38.45776905, 38.10511777,  0.        ,\n",
       "        41.27953488, 38.95510236, 42.14854683, 38.66522986, 47.18580295,\n",
       "        38.64582772, 40.8900966 , 54.91356845, 46.9627512 , 44.63182721,\n",
       "        62.67774725, 31.18493226, 64.94998075, 36.87139813, 51.94708847,\n",
       "        53.66097278, 61.60357133, 42.22558466],\n",
       "       [32.49615362, 36.89173349, 23.51595203, 22.93468988, 41.27953488,\n",
       "         0.        , 24.32077301, 29.16333314, 23.85372088, 36.06244584,\n",
       "        23.8222585 , 29.39387691, 54.60311346, 46.05974381, 29.35983651,\n",
       "        54.87713549, 45.75478117, 71.48776119, 21.62174831, 51.68655531,\n",
       "        53.91196528, 67.18630813, 32.61901286],\n",
       "       [29.4872854 , 34.27097898, 19.14418972, 18.42552577, 38.95510236,\n",
       "        24.32077301,  0.        , 25.76819745, 19.55760722, 33.37663854,\n",
       "        19.5192213 , 28.45171348, 56.16048433, 42.62628297, 30.40559159,\n",
       "        55.12712581, 42.62628297, 72.80109889, 16.673332  , 53.93514624,\n",
       "        51.66236541, 68.56748501, 29.60574269],\n",
       "       [33.59315406, 37.86159004, 25.009998  , 24.46425965, 42.14854683,\n",
       "        29.16333314, 25.76819745,  0.        , 25.32785028, 37.05401463,\n",
       "        25.29822128, 31.40859755, 55.95533933, 43.84062043, 33.59315406,\n",
       "        51.55579502, 47.46577715, 70.9929574 , 23.19482701, 55.15432893,\n",
       "        50.35871325, 67.38323234, 32.21024682],\n",
       "       [29.10326442, 33.9411255 , 18.54723699, 17.80449381, 38.66522986,\n",
       "        23.85372088, 19.55760722, 25.32785028,  0.        , 33.03785707,\n",
       "        18.93409623, 28.70540019, 57.77975424, 39.94371039, 30.14962686,\n",
       "        53.92123886, 44.06245567, 72.90747561, 16.20185175, 52.99528281,\n",
       "        52.62603918, 68.33008122, 30.14962686],\n",
       "       [39.73034105, 43.39930875, 32.79481666, 32.38054972, 47.18580295,\n",
       "        36.06244584, 33.37663854, 37.05401463, 33.03785707,  0.        ,\n",
       "        33.01514804, 36.78994428, 56.16938668, 44.50842617, 40.25543442,\n",
       "        51.32250968, 47.27578661, 67.91170739, 31.08054054, 53.8702144 ,\n",
       "        51.73006863, 64.68771135, 37.32961291],\n",
       "       [29.0774827 , 33.91902121, 18.50675552, 17.76231967, 38.64582772,\n",
       "        23.8222585 , 19.5192213 , 25.29822128, 18.93409623, 33.01514804,\n",
       "         0.        , 27.88368699, 56.26721959, 42.57933771, 29.53811098,\n",
       "        54.2678542 , 44.03407771, 72.96574539, 15.93737745, 53.5817133 ,\n",
       "        52.02883816, 68.48722509, 29.79093822],\n",
       "       [33.63034344, 38.32753579, 27.71281292, 27.14774392, 40.8900966 ,\n",
       "        29.39387691, 28.45171348, 31.40859755, 28.70540019, 36.78994428,\n",
       "        27.88368699,  0.        , 61.80210352, 49.03570128, 34.525353  ,\n",
       "        54.1063767 , 45.8748297 , 69.83194112, 26.48584528, 54.00462943,\n",
       "        51.58972766, 66.3551053 , 34.278273  ],\n",
       "       [56.24499978, 53.01414905, 55.70906569, 55.86143571, 54.91356845,\n",
       "        54.60311346, 56.16048433, 55.95533933, 57.77975424, 56.16938668,\n",
       "        56.26721959, 61.80210352,  0.        , 70.22819946, 53.14602525,\n",
       "        52.45950819, 56.34713835, 49.11211663, 56.26721959, 53.56304696,\n",
       "        52.04805472, 50.86747487, 54.68546425],\n",
       "       [44.16446535, 47.6497639 , 43.24927745, 43.09872388, 46.9627512 ,\n",
       "        46.05974381, 42.62628297, 43.84062043, 39.94371039, 44.50842617,\n",
       "        42.57933771, 49.03570128, 70.22819946,  0.        , 48.07806152,\n",
       "        53.68426213, 46.292548  , 61.514226  , 42.35563717, 52.24940191,\n",
       "        53.36665626, 58.61313846, 46.28714724],\n",
       "       [37.08099244, 32.06243908, 29.54657341, 27.25802634, 44.63182721,\n",
       "        29.35983651, 30.40559159, 33.59315406, 30.14962686, 40.25543442,\n",
       "        29.53811098, 34.525353  , 53.14602525, 48.07806152,  0.        ,\n",
       "        61.10237311, 50.93623465, 69.09052033, 28.36370921, 54.12485566,\n",
       "        51.46357935, 65.59725604, 35.70714214],\n",
       "       [50.26430145, 52.47380299, 54.70374759, 55.07721852, 62.67774725,\n",
       "        54.87713549, 55.12712581, 51.55579502, 53.92123886, 51.32250968,\n",
       "        54.2678542 , 54.1063767 , 52.45950819, 53.68426213, 61.10237311,\n",
       "         0.        , 69.48381106, 51.        , 54.56189146, 55.21775077,\n",
       "        50.28916384, 52.5023809 , 53.11779363],\n",
       "       [48.40970977, 52.61653732, 43.31858723, 44.02839993, 31.18493226,\n",
       "        45.75478117, 42.62628297, 47.46577715, 44.06245567, 47.27578661,\n",
       "        44.03407771, 45.8748297 , 56.34713835, 46.292548  , 50.93623465,\n",
       "        69.48381106,  0.        , 60.81118318, 43.35896678, 50.36864104,\n",
       "        55.14526272, 58.02154772, 47.02658822],\n",
       "       [69.5593272 , 67.55368236, 73.07872467, 73.24957338, 64.94998075,\n",
       "        71.48776119, 72.80109889, 70.9929574 , 72.90747561, 67.91170739,\n",
       "        72.96574539, 69.83194112, 49.11211663, 61.514226  , 69.09052033,\n",
       "        51.        , 60.81118318,  0.        , 74.6860094 , 51.35172831,\n",
       "        54.23098745, 27.50454508, 69.43702183],\n",
       "       [27.19374928, 31.85121662, 15.41103501, 14.57737974, 36.87139813,\n",
       "        21.62174831, 16.673332  , 23.19482701, 16.20185175, 31.08054054,\n",
       "        15.93737745, 26.48584528, 56.26721959, 42.35563717, 28.36370921,\n",
       "        54.56189146, 43.35896678, 74.6860094 ,  0.        , 54.23098745,\n",
       "        51.35172831, 69.43702183, 27.50454508],\n",
       "       [54.86802347, 57.32800363, 54.21715596, 53.63301222, 51.94708847,\n",
       "        51.68655531, 53.93514624, 55.15432893, 52.99528281, 53.8702144 ,\n",
       "        53.5817133 , 54.00462943, 53.56304696, 52.24940191, 54.12485566,\n",
       "        55.21775077, 50.36864104, 51.35172831, 54.23098745,  0.        ,\n",
       "        74.6860094 , 50.35374862, 55.15886148],\n",
       "       [50.67050424, 47.86961458, 51.36633139, 51.97595598, 53.66097278,\n",
       "        53.91196528, 51.66236541, 50.35871325, 52.62603918, 51.73006863,\n",
       "        52.02883816, 51.58972766, 52.04805472, 53.36665626, 51.46357935,\n",
       "        50.28916384, 55.14526272, 54.23098745, 51.35172831, 74.6860094 ,\n",
       "         0.        , 55.15886148, 50.35374862],\n",
       "       [66.46051459, 64.90762667, 68.9492567 , 68.78226516, 61.60357133,\n",
       "        67.18630813, 68.56748501, 67.38323234, 68.33008122, 64.68771135,\n",
       "        68.48722509, 66.3551053 , 50.86747487, 58.61313846, 65.59725604,\n",
       "        52.5023809 , 58.02154772, 27.50454508, 69.43702183, 50.35374862,\n",
       "        55.15886148,  0.        , 74.6860094 ],\n",
       "       [34.07345007, 36.9459064 , 28.70540019, 29.10326442, 42.22558466,\n",
       "        32.61901286, 29.60574269, 32.21024682, 30.14962686, 37.32961291,\n",
       "        29.79093822, 34.278273  , 54.68546425, 46.28714724, 35.70714214,\n",
       "        53.11779363, 47.02658822, 69.43702183, 27.50454508, 55.15886148,\n",
       "        50.35374862, 74.6860094 ,  0.        ]])"
      ]
     },
     "execution_count": 42,
     "metadata": {},
     "output_type": "execute_result"
    }
   ],
   "source": [
    "## Filling the D matrix with the calculated Dice values\n",
    "for c1 in range(M.shape[1]):\n",
    "  for c2 in range(M.shape[1]):\n",
    "    D[c1,c2]=Dice(MN[:,c1],MN[:,c2])\n",
    "D=np.sqrt(D)\n",
    "D"
   ]
  },
  {
   "cell_type": "code",
   "execution_count": 45,
   "metadata": {},
   "outputs": [
    {
     "data": {
      "text/plain": [
       "array([40.48456496, 28.82707061, 28.35489376, 44.51965858, 32.49615362,\n",
       "       29.4872854 , 33.59315406, 29.10326442, 39.73034105, 29.0774827 ,\n",
       "       33.63034344, 56.24499978, 44.16446535, 37.08099244, 50.26430145,\n",
       "       48.40970977, 69.5593272 , 27.19374928, 54.86802347, 50.67050424,\n",
       "       66.46051459, 34.07345007, 33.70459909, 33.30165161, 47.8225888 ,\n",
       "       36.89173349, 34.27097898, 37.86159004, 33.9411255 , 43.39930875,\n",
       "       33.91902121, 38.32753579, 53.01414905, 47.6497639 , 32.06243908,\n",
       "       52.47380299, 52.61653732, 67.55368236, 31.85121662, 57.32800363,\n",
       "       47.86961458, 64.90762667, 36.9459064 , 17.34935157, 38.45776905,\n",
       "       23.51595203, 19.14418972, 25.009998  , 18.54723699, 32.79481666,\n",
       "       18.50675552, 27.71281292, 55.70906569, 43.24927745, 29.54657341,\n",
       "       54.70374759, 43.31858723, 73.07872467, 15.41103501, 54.21715596,\n",
       "       51.36633139, 68.9492567 , 28.70540019, 38.10511777, 22.93468988,\n",
       "       18.42552577, 24.46425965, 17.80449381, 32.38054972, 17.76231967,\n",
       "       27.14774392, 55.86143571, 43.09872388, 27.25802634, 55.07721852,\n",
       "       44.02839993, 73.24957338, 14.57737974, 53.63301222, 51.97595598,\n",
       "       68.78226516, 29.10326442, 41.27953488, 38.95510236, 42.14854683,\n",
       "       38.66522986, 47.18580295, 38.64582772, 40.8900966 , 54.91356845,\n",
       "       46.9627512 , 44.63182721, 62.67774725, 31.18493226, 64.94998075,\n",
       "       36.87139813, 51.94708847, 53.66097278, 61.60357133, 42.22558466,\n",
       "       24.32077301, 29.16333314, 23.85372088, 36.06244584, 23.8222585 ,\n",
       "       29.39387691, 54.60311346, 46.05974381, 29.35983651, 54.87713549,\n",
       "       45.75478117, 71.48776119, 21.62174831, 51.68655531, 53.91196528,\n",
       "       67.18630813, 32.61901286, 25.76819745, 19.55760722, 33.37663854,\n",
       "       19.5192213 , 28.45171348, 56.16048433, 42.62628297, 30.40559159,\n",
       "       55.12712581, 42.62628297, 72.80109889, 16.673332  , 53.93514624,\n",
       "       51.66236541, 68.56748501, 29.60574269, 25.32785028, 37.05401463,\n",
       "       25.29822128, 31.40859755, 55.95533933, 43.84062043, 33.59315406,\n",
       "       51.55579502, 47.46577715, 70.9929574 , 23.19482701, 55.15432893,\n",
       "       50.35871325, 67.38323234, 32.21024682, 33.03785707, 18.93409623,\n",
       "       28.70540019, 57.77975424, 39.94371039, 30.14962686, 53.92123886,\n",
       "       44.06245567, 72.90747561, 16.20185175, 52.99528281, 52.62603918,\n",
       "       68.33008122, 30.14962686, 33.01514804, 36.78994428, 56.16938668,\n",
       "       44.50842617, 40.25543442, 51.32250968, 47.27578661, 67.91170739,\n",
       "       31.08054054, 53.8702144 , 51.73006863, 64.68771135, 37.32961291,\n",
       "       27.88368699, 56.26721959, 42.57933771, 29.53811098, 54.2678542 ,\n",
       "       44.03407771, 72.96574539, 15.93737745, 53.5817133 , 52.02883816,\n",
       "       68.48722509, 29.79093822, 61.80210352, 49.03570128, 34.525353  ,\n",
       "       54.1063767 , 45.8748297 , 69.83194112, 26.48584528, 54.00462943,\n",
       "       51.58972766, 66.3551053 , 34.278273  , 70.22819946, 53.14602525,\n",
       "       52.45950819, 56.34713835, 49.11211663, 56.26721959, 53.56304696,\n",
       "       52.04805472, 50.86747487, 54.68546425, 48.07806152, 53.68426213,\n",
       "       46.292548  , 61.514226  , 42.35563717, 52.24940191, 53.36665626,\n",
       "       58.61313846, 46.28714724, 61.10237311, 50.93623465, 69.09052033,\n",
       "       28.36370921, 54.12485566, 51.46357935, 65.59725604, 35.70714214,\n",
       "       69.48381106, 51.        , 54.56189146, 55.21775077, 50.28916384,\n",
       "       52.5023809 , 53.11779363, 60.81118318, 43.35896678, 50.36864104,\n",
       "       55.14526272, 58.02154772, 47.02658822, 74.6860094 , 51.35172831,\n",
       "       54.23098745, 27.50454508, 69.43702183, 54.23098745, 51.35172831,\n",
       "       69.43702183, 27.50454508, 74.6860094 , 50.35374862, 55.15886148,\n",
       "       55.15886148, 50.35374862, 74.6860094 ])"
      ]
     },
     "execution_count": 45,
     "metadata": {},
     "output_type": "execute_result"
    }
   ],
   "source": [
    "## Squareform so the matrix has the distance between 2 features only once\n",
    "VD = squareform(D)\n",
    "VD"
   ]
  },
  {
   "cell_type": "code",
   "execution_count": 47,
   "metadata": {},
   "outputs": [
    {
     "data": {
      "text/plain": [
       "array([[  3.        ,  18.        ,  14.57737974,   2.        ],\n",
       "       [  2.        ,  23.        ,  16.9754725 ,   3.        ],\n",
       "       [ 10.        ,  24.        ,  18.18882441,   4.        ],\n",
       "       [  8.        ,  25.        ,  18.61451047,   5.        ],\n",
       "       [  6.        ,  26.        ,  19.6511238 ,   6.        ],\n",
       "       [  5.        ,  27.        ,  26.68555878,   7.        ],\n",
       "       [ 17.        ,  21.        ,  27.50454508,   2.        ],\n",
       "       [  7.        ,  28.        ,  29.23977233,   8.        ],\n",
       "       [  4.        ,  16.        ,  31.18493226,   2.        ],\n",
       "       [  1.        ,  14.        ,  32.06243908,   2.        ],\n",
       "       [ 11.        ,  30.        ,  33.00631253,   9.        ],\n",
       "       [  0.        ,  22.        ,  34.07345007,   2.        ],\n",
       "       [ 33.        ,  34.        ,  36.14071824,  11.        ],\n",
       "       [  9.        ,  35.        ,  40.90760098,  12.        ],\n",
       "       [ 32.        ,  36.        ,  44.62182362,  14.        ],\n",
       "       [ 15.        ,  20.        ,  50.28916384,   2.        ],\n",
       "       [ 13.        ,  31.        ,  50.74281558,   3.        ],\n",
       "       [ 12.        ,  38.        ,  52.8929737 ,   3.        ],\n",
       "       [ 19.        ,  39.        ,  55.64096213,   4.        ],\n",
       "       [ 29.        ,  40.        ,  62.86201821,   5.        ],\n",
       "       [ 37.        ,  41.        ,  77.42418206,  18.        ],\n",
       "       [ 42.        ,  43.        , 124.18342752,  23.        ]])"
      ]
     },
     "execution_count": 47,
     "metadata": {},
     "output_type": "execute_result"
    }
   ],
   "source": [
    "## Clustering hierarchy with ward\n",
    "cah=ward(VD)\n",
    "cah"
   ]
  },
  {
   "cell_type": "code",
   "execution_count": 52,
   "metadata": {},
   "outputs": [
    {
     "data": {
      "image/png": "[encoded data removed]",
      "text/plain": [
       "<Figure size 1200x600 with 1 Axes>"
      ]
     },
     "metadata": {},
     "output_type": "display_data"
    }
   ],
   "source": [
    "## Visualisation of the hierarchy with a Dendrogram\n",
    "plt.figure(figsize=(12,6))\n",
    "plt.title(\"Agglomerative Hierarchical Clustering\")\n",
    "dendrogram(Z=cah,labels=M.columns, orientation=\"left\", color_threshold=70)\n",
    "plt.show()"
   ]
  },
  {
   "cell_type": "markdown",
   "metadata": {},
   "source": [
    "We can identify 2 to 3 clusters that allow us to outline broad stereotypes (from top to bottom):\n",
    "\n",
    "- Single manager with higher education and a renter\n",
    "- A journey marked by setbacks or instability\n",
    "- Married, with a mortgage"
   ]
  }
 ],
 "metadata": {
  "kernelspec": {
   "display_name": "venv",
   "language": "python",
   "name": "python3"
  },
  "language_info": {
   "codemirror_mode": {
    "name": "ipython",
    "version": 3
   },
   "file_extension": ".py",
   "mimetype": "text/x-python",
   "name": "python",
   "nbconvert_exporter": "python",
   "pygments_lexer": "ipython3",
   "version": "3.12.5"
  }
 },
 "nbformat": 4,
 "nbformat_minor": 2
}
